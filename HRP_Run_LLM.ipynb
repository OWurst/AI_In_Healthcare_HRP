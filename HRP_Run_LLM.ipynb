{
 "cells": [
  {
   "cell_type": "code",
   "execution_count": null,
   "metadata": {
    "colab": {
     "base_uri": "https://localhost:8080/"
    },
    "executionInfo": {
     "elapsed": 20683,
     "status": "ok",
     "timestamp": 1754698827681,
     "user": {
      "displayName": "owen wurst",
      "userId": "16145957402126969890"
     },
     "user_tz": 240
    },
    "id": "ndWHoOPQTWmM",
    "outputId": "ada9a904-35b7-4073-c73e-04eca200acca"
   },
   "outputs": [],
   "source": [
    "from google.colab import drive\n",
    "drive.mount('/content/drive/')"
   ]
  },
  {
   "cell_type": "code",
   "execution_count": null,
   "metadata": {
    "colab": {
     "base_uri": "https://localhost:8080/"
    },
    "executionInfo": {
     "elapsed": 189,
     "status": "ok",
     "timestamp": 1754698827864,
     "user": {
      "displayName": "owen wurst",
      "userId": "16145957402126969890"
     },
     "user_tz": 240
    },
    "id": "DXWS4xMhgpJD",
    "outputId": "9616cb41-a21b-4f40-b870-bc5b8408f20a"
   },
   "outputs": [],
   "source": [
    "%cd /content/drive/MyDrive/HRP/"
   ]
  },
  {
   "cell_type": "code",
   "execution_count": null,
   "metadata": {
    "colab": {
     "base_uri": "https://localhost:8080/"
    },
    "executionInfo": {
     "elapsed": 573,
     "status": "ok",
     "timestamp": 1754698828438,
     "user": {
      "displayName": "owen wurst",
      "userId": "16145957402126969890"
     },
     "user_tz": 240
    },
    "id": "enI0U54JguS0",
    "outputId": "8236b5f1-ea05-47a8-e782-a095e3055d0a"
   },
   "outputs": [],
   "source": [
    "!ls"
   ]
  },
  {
   "cell_type": "code",
   "execution_count": null,
   "metadata": {
    "colab": {
     "base_uri": "https://localhost:8080/"
    },
    "executionInfo": {
     "elapsed": 40546,
     "status": "ok",
     "timestamp": 1754698868976,
     "user": {
      "displayName": "owen wurst",
      "userId": "16145957402126969890"
     },
     "user_tz": 240
    },
    "id": "jnFUnnOPg-3E",
    "outputId": "d921b83f-4e9b-4705-9fb9-67d75d834373"
   },
   "outputs": [],
   "source": [
    "!pip install gpt4all[cuda]"
   ]
  },
  {
   "cell_type": "code",
   "execution_count": null,
   "metadata": {
    "executionInfo": {
     "elapsed": 35709,
     "status": "ok",
     "timestamp": 1754698904700,
     "user": {
      "displayName": "owen wurst",
      "userId": "16145957402126969890"
     },
     "user_tz": 240
    },
    "id": "GHHLdfDdhHk2"
   },
   "outputs": [],
   "source": [
    "import pandas as pd\n",
    "import torch\n",
    "from transformers import AutoTokenizer, AutoModelForTokenClassification, pipeline\n",
    "from gpt4all import GPT4All\n",
    "from pathlib import Path\n",
    "from tqdm import tqdm"
   ]
  },
  {
   "cell_type": "code",
   "execution_count": null,
   "metadata": {
    "colab": {
     "base_uri": "https://localhost:8080/"
    },
    "executionInfo": {
     "elapsed": 157125,
     "status": "ok",
     "timestamp": 1754699061818,
     "user": {
      "displayName": "owen wurst",
      "userId": "16145957402126969890"
     },
     "user_tz": 240
    },
    "id": "V4NJPP66hSlr",
    "outputId": "b2b36dd9-496d-4d12-fb2b-d572cd9ad025"
   },
   "outputs": [],
   "source": [
    "model_dir = Path(r\"./\")\n",
    "model_dir.mkdir(exist_ok=True)\n",
    "\n",
    "model = GPT4All(\n",
    "    model_name=\"Meta-Llama-3-8B-Instruct.Q4_0.gguf\",\n",
    "    model_path=model_dir,\n",
    "    allow_download=True,\n",
    "    n_threads=4,\n",
    "    device=\"cuda\", # lets use that gpu\n",
    "    ngl=100\n",
    ")"
   ]
  },
  {
   "cell_type": "code",
   "execution_count": null,
   "metadata": {
    "executionInfo": {
     "elapsed": 21,
     "status": "ok",
     "timestamp": 1754699061850,
     "user": {
      "displayName": "owen wurst",
      "userId": "16145957402126969890"
     },
     "user_tz": 240
    },
    "id": "TkdfE6C6hU9P"
   },
   "outputs": [],
   "source": [
    "def make_prompt(text):\n",
    "  prompt = (\n",
    "      \"You are a medical expert. Extract dosages for all drugs: \"\n",
    "      \"Return ONLY the following list [(drug,dosage,unit,frequency)] for each drug return nothing else at all\"\n",
    "      f\"{text}\\nAnswer:\"\n",
    "  )\n",
    "  return prompt\n",
    "\n",
    "def extract_with_gpt4all(row, max_tokens=256):\n",
    "    prompt = make_prompt(row[\"note_text\"])\n",
    "\n",
    "    response = model.generate(prompt, n_predict=max_tokens)\n",
    "    return response.strip()"
   ]
  },
  {
   "cell_type": "code",
   "execution_count": null,
   "metadata": {
    "colab": {
     "base_uri": "https://localhost:8080/",
     "height": 206
    },
    "executionInfo": {
     "elapsed": 756,
     "status": "ok",
     "timestamp": 1754699062612,
     "user": {
      "displayName": "owen wurst",
      "userId": "16145957402126969890"
     },
     "user_tz": 240
    },
    "id": "v-tEJmMQhrJm",
    "outputId": "c45fdad2-0515-4564-9a8c-8eca1106b349"
   },
   "outputs": [],
   "source": [
    "csv_path = \"unique_pharmacy_notes.csv\"\n",
    "df = pd.read_csv(csv_path)\n",
    "df.head()"
   ]
  },
  {
   "cell_type": "code",
   "execution_count": null,
   "metadata": {
    "colab": {
     "base_uri": "https://localhost:8080/"
    },
    "executionInfo": {
     "elapsed": 1519721,
     "status": "ok",
     "timestamp": 1754700582330,
     "user": {
      "displayName": "owen wurst",
      "userId": "16145957402126969890"
     },
     "user_tz": 240
    },
    "id": "Il4uCk3ViQCN",
    "outputId": "bc25477c-d1ce-47c3-bbcc-dbd7e1ff4e4d"
   },
   "outputs": [],
   "source": [
    "tqdm.pandas(desc=\"Extracting with GPT4All\")\n",
    "df[\"extraction\"] = df.progress_apply(extract_with_gpt4all, axis=1)\n",
    "\n",
    "df.to_csv(\"extracted_pharmacy_notes.csv\", index=False)"
   ]
  },
  {
   "cell_type": "code",
   "execution_count": null,
   "metadata": {
    "colab": {
     "base_uri": "https://localhost:8080/",
     "height": 206
    },
    "executionInfo": {
     "elapsed": 64,
     "status": "ok",
     "timestamp": 1754700582386,
     "user": {
      "displayName": "owen wurst",
      "userId": "16145957402126969890"
     },
     "user_tz": 240
    },
    "id": "Lqufg4sGksCp",
    "outputId": "593e29d4-3aa0-4a7d-aab7-bba6b2956487"
   },
   "outputs": [],
   "source": [
    "df.head()"
   ]
  }
 ],
 "metadata": {
  "accelerator": "GPU",
  "colab": {
   "authorship_tag": "ABX9TyPdMtZMLSPwUh/S+vcQLyWa",
   "gpuType": "T4",
   "provenance": []
  },
  "kernelspec": {
   "display_name": "Python 3 (ipykernel)",
   "language": "python",
   "name": "python3"
  },
  "language_info": {
   "codemirror_mode": {
    "name": "ipython",
    "version": 3
   },
   "file_extension": ".py",
   "mimetype": "text/x-python",
   "name": "python",
   "nbconvert_exporter": "python",
   "pygments_lexer": "ipython3",
   "version": "3.13.5"
  }
 },
 "nbformat": 4,
 "nbformat_minor": 4
}
